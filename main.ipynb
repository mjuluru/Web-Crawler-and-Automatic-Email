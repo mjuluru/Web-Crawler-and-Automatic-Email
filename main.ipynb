{
  "nbformat": 4,
  "nbformat_minor": 0,
  "metadata": {
    "colab": {
      "provenance": []
    },
    "kernelspec": {
      "name": "python3",
      "display_name": "Python 3"
    },
    "language_info": {
      "name": "python"
    }
  },
  "cells": [
    {
      "cell_type": "code",
      "source": [
        "#!/usr/bin/env python\n",
        "\"\"\"\n",
        "This is a personal project to facilitate sending emails to multiple professors in the university's website.\n",
        "This project follows the guidelines of Web Crawling and has not displayed any personal information of the professors\n",
        "extracted and is used only for educational purposes.\n",
        "This project is to be used only for educational and reference purposes and not to cause harm or any form of negative impact on anyone.\n",
        "\n",
        "@Author = \"Mamatha Juluru\"\n",
        "@Copyright = \"Copyright 2021, The Email Automation Project\"\n",
        "@Date = August 10th, 2021\n",
        "@Email = \"mjuluru@asu.edu\"\n",
        "@Status = \"Completed\"\n",
        "\"\"\""
      ],
      "metadata": {
        "id": "PY5uWmVTJ1_m"
      },
      "execution_count": null,
      "outputs": []
    },
    {
      "cell_type": "code",
      "source": [
        "!pip install beautifulsoup4 urllib3 plyer requests"
      ],
      "metadata": {
        "colab": {
          "base_uri": "https://localhost:8080/"
        },
        "id": "N0cxoo7JE3Nc",
        "outputId": "bf661d1e-24c1-48ea-c02c-3a1996c3a1b9"
      },
      "execution_count": 9,
      "outputs": [
        {
          "output_type": "stream",
          "name": "stdout",
          "text": [
            "Requirement already satisfied: beautifulsoup4 in /usr/local/lib/python3.10/dist-packages (4.11.2)\n",
            "Requirement already satisfied: urllib3 in /usr/local/lib/python3.10/dist-packages (2.0.4)\n",
            "Requirement already satisfied: plyer in /usr/local/lib/python3.10/dist-packages (2.1.0)\n",
            "Requirement already satisfied: requests in /usr/local/lib/python3.10/dist-packages (2.31.0)\n",
            "Requirement already satisfied: soupsieve>1.2 in /usr/local/lib/python3.10/dist-packages (from beautifulsoup4) (2.4.1)\n",
            "Requirement already satisfied: charset-normalizer<4,>=2 in /usr/local/lib/python3.10/dist-packages (from requests) (3.2.0)\n",
            "Requirement already satisfied: idna<4,>=2.5 in /usr/local/lib/python3.10/dist-packages (from requests) (3.4)\n",
            "Requirement already satisfied: certifi>=2017.4.17 in /usr/local/lib/python3.10/dist-packages (from requests) (2023.7.22)\n"
          ]
        }
      ]
    },
    {
      "cell_type": "code",
      "source": [
        "# STEP1: Setup for web crawling\n",
        "\n",
        "# Importing libraries for Crawling the webpages\n",
        "import requests\n",
        "from bs4 import BeautifulSoup\n",
        "\n",
        "# Entering the url from which the professor's emails are extracted\n",
        "url = \"https://scai.engineering.asu.edu/faculty/\"\n",
        "# Entering headers - list browsers supportable\n",
        "header = {\"User-Agent\": 'Mozilla/5.0 (Windows NT 10.0; Win64; x64) AppleWebKit/537.36 (KHTML, like Gecko) Chrome/85.0.4183.121 Safari/537.36'}\n",
        "# Getting the page contents\n",
        "page = requests.get(url,headers=header)\n",
        "# Create a crawler\n",
        "soup = BeautifulSoup(page.content, 'html.parser')"
      ],
      "metadata": {
        "id": "AaENkyd5KiGf"
      },
      "execution_count": 184,
      "outputs": []
    },
    {
      "cell_type": "code",
      "source": [
        "# To decode the encoded emails extracted below\n",
        "def decode_email(encoded_email):\n",
        "    try:\n",
        "        r = int(encoded_email[:2],16)\n",
        "        email = ''.join([chr(int(encoded_email[i:i+2], 16) ^ r) for i in range(2, len(encoded_email), 2)])\n",
        "        return email\n",
        "    except (ValueError):\n",
        "        pass"
      ],
      "metadata": {
        "id": "od3XCHngWhYq"
      },
      "execution_count": 160,
      "outputs": []
    },
    {
      "cell_type": "code",
      "source": [
        "# STEP2: Perform web crawling and parse the webpages\n",
        "\n",
        "# Crawling the page to extract the names and emails of a professor in SCAI department of ASU\n",
        "table = soup.find(\"div\", attrs={'class':'et_builder_inner_content et_pb_gutters3'})\n",
        "content_containers = table.find_all(\"div\",class_= \"et_pb_ajax_pagination_container\")\n",
        "prof_details = []\n",
        "prof_emails = []\n",
        "for container in content_containers:\n",
        "  articles = container.find_all(\"article\")\n",
        "  for article in articles:\n",
        "    prof_name = article.find_all(\"h2\")\n",
        "    prof_name = prof_name[0].find(\"a\").text\n",
        "    prof_email = article.find_all(\"span\", class_=\"__cf_email__\")[0]['data-cfemail']\n",
        "    prof_email = decode_email(prof_email)\n",
        "    prof_details.append({\n",
        "        'name':prof_name,\n",
        "        'email':prof_email,\n",
        "    })\n",
        "    prof_emails.append(prof_email)\n",
        "# Due to prviacy concerns cannot print the original details of the professors"
      ],
      "metadata": {
        "id": "I4J6hvFeKiEX"
      },
      "execution_count": 194,
      "outputs": []
    },
    {
      "cell_type": "code",
      "source": [
        "# STEP3: Setup for automatic email sending to the professors\n",
        "\n",
        "# Importing libraries required to send automated emails\n",
        "from email.mime.text import MIMEText\n",
        "from email.mime.image import MIMEImage\n",
        "from email.mime.application import MIMEApplication\n",
        "from email.mime.multipart import MIMEMultipart\n",
        "import smtplib\n",
        "import os"
      ],
      "metadata": {
        "id": "hKLs0ZbCKh_-"
      },
      "execution_count": 185,
      "outputs": []
    },
    {
      "cell_type": "code",
      "source": [
        "#Initializing connection to the email server\n",
        "smtp = smtplib.SMTP('smtp.gmail.com',587)\n",
        "smtp.ehlo()\n",
        "smtp.starttls()\n",
        "smtp.login('<from email>','<app password>')"
      ],
      "metadata": {
        "colab": {
          "base_uri": "https://localhost:8080/"
        },
        "id": "A9FvsSGWKcA6",
        "outputId": "05eeb5c8-34a5-4098-8601-aeefd0d8fc85"
      },
      "execution_count": 186,
      "outputs": [
        {
          "output_type": "execute_result",
          "data": {
            "text/plain": [
              "(235, b'2.7.0 Accepted')"
            ]
          },
          "metadata": {},
          "execution_count": 186
        }
      ]
    },
    {
      "cell_type": "code",
      "source": [
        "# STEP4: Code to create a message\n",
        "\n",
        "#Creating the message\n",
        "def message_draft(subject = \"Python Webcrawler notification\",\n",
        "            text = \"\", attachments=None, images=None):\n",
        "  #Building message\n",
        "  message = MIMEMultipart()\n",
        "  # Adding subject line to the email\n",
        "  message['Subject'] = subject\n",
        "  # Adding content of the email\n",
        "  message.attach(MIMEText(text))\n",
        "  # Adding images\n",
        "  if images is not None:\n",
        "    if type(images) is not list:\n",
        "      images = [images]\n",
        "    for image in images:\n",
        "      # Read the binary data\n",
        "      image_data = open(image,'rb').read()\n",
        "      # Attach image to the message\n",
        "      message.attach(MIMEImage(image_data,\n",
        "                               name=os.path.basename(image)))\n",
        "  # Adding attachments\n",
        "  if attachments is not None:\n",
        "    if type(attachments) is not list:\n",
        "      attachments = [attachments]\n",
        "    for attachment in attachments:\n",
        "      # Open the attachment\n",
        "      with open(attachment, 'rb') as f:\n",
        "        # Read the attachment contents\n",
        "        file = MIMEApplication(f.read(),\n",
        "                               name=os.path.basename(attachment))\n",
        "        file['Content-Disposition'] = f'attachemnt;\\\n",
        "        filename=\"{os.path.basename(attachment)}\"'\n",
        "        # Attach image to the message\n",
        "        message.attach(file)\n",
        "  return message\n"
      ],
      "metadata": {
        "id": "gx4SFhcUcw2c"
      },
      "execution_count": 187,
      "outputs": []
    },
    {
      "cell_type": "code",
      "source": [
        "# STEP5: Send the emails\n",
        "\n",
        "subject = \"Inquiry Regarding Available Grader and TA Positions\"\n",
        "body = \"\"\"Dear Professor,\n",
        "\n",
        "I hope this email finds you well. My name is Mamatha Juluru, and I am currently pursuing a Master\\'s degree in Computer Science at Arizona State University. I have been following your work and research with great interest, and I am reaching out to inquire about any potential grader or TA positions available within your departments.\n",
        "\n",
        "With a strong educational background and hands-on experience as a Software Developer and Data Scientist at UnitedHealth Group and Capgemini, I have honed my skills in Python, Java, SQL, Software Development, and Data Visualization. I have successfully contributed to projects involving software development, data governance, and complex data analysis.\n",
        "\n",
        "The opportunity to work as a grader or TA under your guidance would be an invaluable experience for me, allowing me to share my practical knowledge with fellow students and contribute to the academic community. I am excited to collaborate, assist students, and contribute to the academic environment at your esteemed institution.\n",
        "\n",
        "Please find my resume attached.\n",
        "\n",
        "Thank you for considering my application. I would be grateful for the chance to discuss how my skills and experience align with your department\\'s needs. Please feel free to contact me at mjuluru@asu.edu or +1 (xxx) xxx xxxx.\n",
        "\n",
        "\n",
        "Warm Regards,\n",
        "Mamatha Juluru.\n",
        "+1 (xxx) xxx xxxx.\n",
        "LinkedIn: https://www.linkedin.com/in/mamathaj/\"\"\"\n",
        "\n",
        "# Creating message to send in email\n",
        "msg = message_draft(subject, body, r\"/content/drive/MyDrive/WebCrawler_Python/Mamatha_Juluru_Resume.pdf\")\n",
        "\n",
        "# prof_emails : List of Professor emails in the School of Augmented Intelligenceto = []+[]+ (SCAI) in Arizona State University (ASU) extracter earlier in the code\n",
        "# Sending emails\n",
        "smtp.sendmail(from_addr=\"<from email>\", to_addrs=prof_emails, msg = msg.as_string())\n"
      ],
      "metadata": {
        "id": "3zbn9CvdpvM6"
      },
      "execution_count": null,
      "outputs": []
    },
    {
      "cell_type": "code",
      "source": [
        "# STEP6: End the connection\n",
        "\n",
        "# Closing the server connection\n",
        "smtp.quit()"
      ],
      "metadata": {
        "id": "I2q_UexgwnwW"
      },
      "execution_count": null,
      "outputs": []
    }
  ]
}